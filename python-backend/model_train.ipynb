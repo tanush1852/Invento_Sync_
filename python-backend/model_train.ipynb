{
 "cells": [
  {
   "cell_type": "code",
   "execution_count": 1,
   "metadata": {},
   "outputs": [
    {
     "name": "stderr",
     "output_type": "stream",
     "text": [
      "10:41:43 - cmdstanpy - INFO - Chain [1] start processing\n",
      "10:41:43 - cmdstanpy - INFO - Chain [1] done processing\n"
     ]
    },
    {
     "name": "stdout",
     "output_type": "stream",
     "text": [
      "           ds       yhat  yhat_lower  yhat_upper\n",
      "7  2023-01-08  22.021515   20.428066   23.703427\n",
      "8  2023-01-09  23.704362   22.068099   25.366596\n",
      "9  2023-01-10  25.387209   23.853986   27.007233\n",
      "10 2023-01-11  27.070056   25.330138   28.720701\n",
      "11 2023-01-12  28.752903   27.194746   30.428494\n"
     ]
    }
   ],
   "source": [
    "from prophet import Prophet\n",
    "import pandas as pd\n",
    "\n",
    "# Sample data\n",
    "data = {'ds': pd.to_datetime(['2023-01-01', '2023-01-02', '2023-01-03', '2023-01-04', '2023-01-05']),\n",
    "        'y': [10, 12, 15, 13, 18]}\n",
    "df = pd.DataFrame(data)\n",
    "\n",
    "# Initialize and fit the model\n",
    "model = Prophet()\n",
    "model.fit(df)\n",
    "\n",
    "# Create a dataframe for future predictions\n",
    "future = model.make_future_dataframe(periods=7)\n",
    "\n",
    "# Make predictions\n",
    "forecast = model.predict(future)\n",
    "\n",
    "# Print the forecast\n",
    "print(forecast[['ds', 'yhat', 'yhat_lower', 'yhat_upper']].tail())"
   ]
  },
  {
   "cell_type": "code",
   "execution_count": 4,
   "metadata": {},
   "outputs": [
    {
     "name": "stdout",
     "output_type": "stream",
     "text": [
      "Model saved successfully to models/prophet_model_test.pkl\n",
      "Model loaded successfully\n",
      "\n",
      "Forecast from loaded model:\n",
      "           ds       yhat  yhat_lower  yhat_upper\n",
      "7  2023-01-08  22.021515   20.379837   23.683061\n",
      "8  2023-01-09  23.704362   22.111630   25.341334\n",
      "9  2023-01-10  25.387209   23.785482   27.161395\n",
      "10 2023-01-11  27.070056   25.421592   28.753073\n",
      "11 2023-01-12  28.752903   27.127275   30.368733\n",
      "\n",
      "Verifying predictions are the same:\n",
      "Predictions match: True\n"
     ]
    }
   ],
   "source": [
    "import pickle\n",
    "import os\n",
    "\n",
    "# Create directory for models if it doesn't exist\n",
    "os.makedirs('models', exist_ok=True)\n",
    "\n",
    "# Save the trained model\n",
    "with open('models/prophet_model_test.pkl', 'wb') as f:\n",
    "    pickle.dump(model, f)\n",
    "\n",
    "print(\"Model saved successfully to models/prophet_model_test.pkl\")\n",
    "\n",
    "# Load the model back\n",
    "with open('models/prophet_model_test.pkl', 'rb') as f:\n",
    "    loaded_model = pickle.load(f)\n",
    "\n",
    "print(\"Model loaded successfully\")\n",
    "\n",
    "# Create a dataframe for future predictions with the loaded model\n",
    "future_loaded = loaded_model.make_future_dataframe(periods=7)\n",
    "\n",
    "# Make predictions with the loaded model\n",
    "forecast_loaded = loaded_model.predict(future_loaded)\n",
    "\n",
    "# Print the forecast from loaded model\n",
    "print(\"\\nForecast from loaded model:\")\n",
    "print(forecast_loaded[['ds', 'yhat', 'yhat_lower', 'yhat_upper']].tail())\n",
    "\n",
    "# Compare results between original and loaded model\n",
    "print(\"\\nVerifying predictions are the same:\")\n",
    "original_tail = forecast[['ds', 'yhat']].tail()\n",
    "loaded_tail = forecast_loaded[['ds', 'yhat']].tail()\n",
    "comparison = original_tail.equals(loaded_tail)\n",
    "print(f\"Predictions match: {comparison}\")"
   ]
  },
  {
   "cell_type": "code",
   "execution_count": 5,
   "metadata": {},
   "outputs": [],
   "source": [
    "import os\n",
    "import pandas as pd\n",
    "import pickle\n",
    "from prophet import Prophet\n",
    "from glob import glob\n",
    "\n",
    "def train_and_save_models():\n",
    "    # Create models directory if it doesn't exist\n",
    "    os.makedirs('models', exist_ok=True)\n",
    "    \n",
    "    # Get list of all CSV files in the data folder\n",
    "    csv_files = glob('data/*.csv')\n",
    "    \n",
    "    if not csv_files:\n",
    "        print(\"No CSV files found in the data folder.\")\n",
    "        return\n",
    "    \n",
    "    print(f\"Found {len(csv_files)} CSV files in the data folder.\")\n",
    "    \n",
    "    for csv_path in csv_files:\n",
    "        try:\n",
    "            # Get filename without extension for model naming\n",
    "            filename = os.path.basename(csv_path)\n",
    "            model_name = os.path.splitext(filename)[0]\n",
    "            model_path = f\"models/{model_name}.pkl\"\n",
    "            \n",
    "            print(f\"Processing {filename}...\")\n",
    "            \n",
    "            # Load data from CSV file\n",
    "            df = pd.read_csv(csv_path)\n",
    "            \n",
    "            # Ensure the dataframe has the required columns (ds, y)\n",
    "            if 'ds' not in df.columns or 'y' not in df.columns:\n",
    "                print(f\"Error: {filename} must contain 'ds' and 'y' columns. Skipping file.\")\n",
    "                continue\n",
    "                \n",
    "            # Convert ds to datetime if it's not already\n",
    "            df['ds'] = pd.to_datetime(df['ds'])\n",
    "            \n",
    "            # Initialize and fit the model\n",
    "            model = Prophet()\n",
    "            model.fit(df)\n",
    "            \n",
    "            # Save the trained model\n",
    "            with open(model_path, 'wb') as f:\n",
    "                pickle.dump(model, f)\n",
    "            \n",
    "            print(f\"Model trained and saved successfully to {model_path}\")\n",
    "            \n",
    "            # Optional: Verify the model by making a simple prediction\n",
    "            future = model.make_future_dataframe(periods=7)\n",
    "            forecast = model.predict(future)\n",
    "            print(f\"Sample forecast for {filename}:\")\n",
    "            print(forecast[['ds', 'yhat', 'yhat_lower', 'yhat_upper']].tail(3))\n",
    "            print(\"-\" * 50)\n",
    "            \n",
    "        except Exception as e:\n",
    "            print(f\"Error processing {filename}: {str(e)}\")\n",
    "    \n",
    "    print(\"All models training completed.\")"
   ]
  },
  {
   "cell_type": "code",
   "execution_count": 6,
   "metadata": {},
   "outputs": [
    {
     "name": "stderr",
     "output_type": "stream",
     "text": [
      "10:57:33 - cmdstanpy - INFO - Chain [1] start processing\n"
     ]
    },
    {
     "name": "stdout",
     "output_type": "stream",
     "text": [
      "Found 4 CSV files in the data folder.\n",
      "Processing chocolates.csv...\n"
     ]
    },
    {
     "name": "stderr",
     "output_type": "stream",
     "text": [
      "10:57:33 - cmdstanpy - INFO - Chain [1] done processing\n",
      "10:57:33 - cmdstanpy - INFO - Chain [1] start processing\n"
     ]
    },
    {
     "name": "stdout",
     "output_type": "stream",
     "text": [
      "Model trained and saved successfully to models/chocolates.pkl\n",
      "Sample forecast for chocolates.csv:\n",
      "            ds         yhat   yhat_lower   yhat_upper\n",
      "161 2025-03-13  9038.564086  8681.863059  9414.219763\n",
      "162 2025-03-14  9050.945224  8692.953230  9425.730352\n",
      "163 2025-03-15  9063.922785  8722.895607  9436.919781\n",
      "--------------------------------------------------\n",
      "Processing facewash.csv...\n"
     ]
    },
    {
     "name": "stderr",
     "output_type": "stream",
     "text": [
      "10:57:33 - cmdstanpy - INFO - Chain [1] done processing\n",
      "10:57:33 - cmdstanpy - INFO - Chain [1] start processing\n"
     ]
    },
    {
     "name": "stdout",
     "output_type": "stream",
     "text": [
      "Model trained and saved successfully to models/facewash.pkl\n",
      "Sample forecast for facewash.csv:\n",
      "            ds        yhat  yhat_lower  yhat_upper\n",
      "161 2025-03-07  144.336809  141.190760  148.000448\n",
      "162 2025-03-08  144.552552  141.111640  147.664000\n",
      "163 2025-03-09  144.785330  141.535496  147.805293\n",
      "--------------------------------------------------\n",
      "Processing fairy_lights.csv...\n"
     ]
    },
    {
     "name": "stderr",
     "output_type": "stream",
     "text": [
      "10:57:33 - cmdstanpy - INFO - Chain [1] done processing\n",
      "10:57:33 - cmdstanpy - INFO - Chain [1] start processing\n"
     ]
    },
    {
     "name": "stdout",
     "output_type": "stream",
     "text": [
      "Model trained and saved successfully to models/fairy_lights.pkl\n",
      "Sample forecast for fairy_lights.csv:\n",
      "            ds        yhat  yhat_lower  yhat_upper\n",
      "147 2025-03-07  541.702780  472.271261  615.362437\n",
      "148 2025-03-08  547.115305  477.824023  621.814938\n",
      "149 2025-03-09  552.252603  481.270130  623.436047\n",
      "--------------------------------------------------\n",
      "Processing preotein.csv...\n"
     ]
    },
    {
     "name": "stderr",
     "output_type": "stream",
     "text": [
      "10:57:33 - cmdstanpy - INFO - Chain [1] done processing\n"
     ]
    },
    {
     "name": "stdout",
     "output_type": "stream",
     "text": [
      "Model trained and saved successfully to models/preotein.pkl\n",
      "Sample forecast for preotein.csv:\n",
      "            ds        yhat  yhat_lower  yhat_upper\n",
      "160 2025-03-13  720.573888  711.086196  730.762949\n",
      "161 2025-03-14  722.227614  712.403468  731.309300\n",
      "162 2025-03-15  723.961602  715.308779  734.219393\n",
      "--------------------------------------------------\n",
      "All models training completed.\n"
     ]
    }
   ],
   "source": [
    "train_and_save_models()"
   ]
  },
  {
   "cell_type": "code",
   "execution_count": null,
   "metadata": {},
   "outputs": [],
   "source": []
  }
 ],
 "metadata": {
  "kernelspec": {
   "display_name": "Python 3",
   "language": "python",
   "name": "python3"
  },
  "language_info": {
   "codemirror_mode": {
    "name": "ipython",
    "version": 3
   },
   "file_extension": ".py",
   "mimetype": "text/x-python",
   "name": "python",
   "nbconvert_exporter": "python",
   "pygments_lexer": "ipython3",
   "version": "3.12.0"
  }
 },
 "nbformat": 4,
 "nbformat_minor": 2
}
